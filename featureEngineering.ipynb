{
 "cells": [
  {
   "cell_type": "code",
   "execution_count": 1,
   "id": "d0be304b",
   "metadata": {},
   "outputs": [],
   "source": [
    "from matplotlib import pyplot as plt\n",
    "import matplotlib.ticker as ticker\n",
    "import pandas as pd\n",
    "import numpy as np\n",
    "import fastf1 as ff1\n",
    "import fastf1.plotting"
   ]
  },
  {
   "cell_type": "code",
   "execution_count": null,
   "id": "d684ffc6",
   "metadata": {},
   "outputs": [],
   "source": [
    "pit_stop_cost={\n",
    "    'Canada': 0.18,\n",
    "    'United Kingdon': 0.20,\n",
    "    'Italy': 0.23,\n",
    "    'Bahrein': 0.23,\n",
    "    'Saudi Arabia': 0.2\n",
    "}\n",
    "\n",
    "pit_stop_cost_sc={\n",
    "    'Canada':0.9,\n",
    "    'United Kingdon':0.9,\n",
    "    'Italy': 0.15,\n",
    "    'Bahrein': 16,\n",
    "    'Saudi Arabia': 0.11\n",
    "\n",
    "}\n",
    "\n",
    "# 2023 Pit Windows\n",
    "pit_window_2023 = pd.DataFrame({\n",
    "    'Compound': [0, 1, 2],\n",
    "    'StartLap': [13, 18, 21],\n",
    "    'EndLap': [20, 36, 35]\n",
    "})\n",
    "\n",
    "# 2024 Pit Windows\n",
    "pit_window_2024 = pd.DataFrame({\n",
    "    'Compound': [0, 1, 2],\n",
    "    'StartLap': [10, 19, None],  # None for missing Hard data\n",
    "    'EndLap': [21, 36, None]\n",
    "})\n",
    "\n",
    "# 2025 Pit Windows\n",
    "pit_window_2025 = pd.DataFrame({\n",
    "    'Compound': [0, 1, 2],\n",
    "    'StartLap': [6, 10, 27],\n",
    "    'EndLap': [16, 22, 34]\n",
    "})"
   ]
  },
  {
   "cell_type": "code",
   "execution_count": null,
   "id": "17305ae3",
   "metadata": {},
   "outputs": [],
   "source": []
  },
  {
   "cell_type": "code",
   "execution_count": 2,
   "id": "99b90725",
   "metadata": {},
   "outputs": [
    {
     "name": "stderr",
     "output_type": "stream",
     "text": [
      "req         WARNING \tDEFAULT CACHE ENABLED! (2.55 GB) /Users/bianca/Library/Caches/fastf1\n",
      "core           INFO \tLoading data for Saudi Arabian Grand Prix - Race [v3.5.3]\n",
      "req            INFO \tUsing cached data for session_info\n",
      "req            INFO \tUsing cached data for driver_info\n",
      "req            INFO \tUsing cached data for session_status_data\n",
      "req            INFO \tUsing cached data for lap_count\n",
      "req            INFO \tUsing cached data for track_status_data\n",
      "req            INFO \tUsing cached data for _extended_timing_data\n",
      "req            INFO \tUsing cached data for timing_app_data\n",
      "core           INFO \tProcessing timing data...\n",
      "req            INFO \tUsing cached data for car_data\n",
      "req            INFO \tUsing cached data for position_data\n",
      "req            INFO \tUsing cached data for weather_data\n",
      "req            INFO \tUsing cached data for race_control_messages\n",
      "core           INFO \tFinished loading data for 20 drivers: ['81', '1', '16', '4', '63', '12', '44', '55', '23', '6', '14', '30', '87', '31', '27', '18', '7', '5', '22', '10']\n"
     ]
    }
   ],
   "source": [
    "session = ff1.get_session(2025, 'Saudi Arabia', 'r')\n",
    "session.load()\n",
    "race = session.laps"
   ]
  },
  {
   "cell_type": "code",
   "execution_count": null,
   "id": "31640446",
   "metadata": {},
   "outputs": [],
   "source": [
    "col_to_drop =['Sector1Time','Sector2Time','Sector3Time', 'IsPersonalBest', 'DriverNumber', 'Time', 'Sector1SessionTime', 'Sector2SessionTime', 'Sector3SessionTime', 'SpeedI1', 'SpeedI2', 'SpeedFL', 'SpeedST', 'LapStartTime', 'LapStartDate', 'DeletedReason', 'FastF1Generated', 'IsAccurate']\n",
    "race = race.drop(columns=col_to_drop)"
   ]
  },
  {
   "cell_type": "code",
   "execution_count": null,
   "id": "6ea464de",
   "metadata": {},
   "outputs": [],
   "source": [
    "race['PitWindow'] = 0\n",
    "# for i, row in pit_window_2025.iterrows():\n",
    "\n",
    "                                    \n",
    "                                    # x.loc[x['LapNumber'].between(row.StartLap, row.EndLap), 'PitWindow'] = 1)\n",
    "\n",
    "def add_pit_window(group):\n",
    "    # Check if the compound matches and the lap number is within the pit window\n",
    "    for i, row in pit_window_2025.iterrows():\n",
    "        \n",
    "        if row.StartLap in group['LapNumber'].values:\n",
    "            print(group.loc[group['LapNumber'] == row.StartLap, 'Compound'])\n",
    "            break\n",
    "\n",
    "            if group.loc[group['LapNumber'] == row.StartLap, 'Compound'] == row.Compound:\n",
    "                group.loc[group['LapNumber'].between(row.StartLap, row.EndLap), 'PitWindow'] = 1\n",
    "                break\n",
    "        break\n",
    "\n",
    "    return 0\n",
    "\n",
    "# race.groupby('Driver').apply(add_pit_window)\n",
    "for g in race.groupby('Driver'):\n",
    "    print(g)\n",
    "    break\n"
   ]
  },
  {
   "cell_type": "code",
   "execution_count": null,
   "id": "2e91f682",
   "metadata": {},
   "outputs": [],
   "source": [
    "saudi25['PitWindow'].value_counts()"
   ]
  }
 ],
 "metadata": {
  "kernelspec": {
   "display_name": "Python 3",
   "language": "python",
   "name": "python3"
  },
  "language_info": {
   "codemirror_mode": {
    "name": "ipython",
    "version": 3
   },
   "file_extension": ".py",
   "mimetype": "text/x-python",
   "name": "python",
   "nbconvert_exporter": "python",
   "pygments_lexer": "ipython3",
   "version": "3.9.21"
  }
 },
 "nbformat": 4,
 "nbformat_minor": 5
}

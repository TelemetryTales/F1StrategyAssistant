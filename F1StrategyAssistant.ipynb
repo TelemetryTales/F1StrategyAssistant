{
 "cells": [
  {
   "cell_type": "code",
   "execution_count": 1,
   "id": "c4751ccb",
   "metadata": {},
   "outputs": [],
   "source": [
    "from matplotlib import pyplot as plt\n",
    "import matplotlib.ticker as ticker\n",
    "import pandas as pd\n",
    "import numpy as np\n",
    "import fastf1 as ff1\n",
    "import fastf1.plotting"
   ]
  },
  {
   "cell_type": "code",
   "execution_count": 47,
   "id": "bef49dba",
   "metadata": {},
   "outputs": [],
   "source": [
    "def gpData(year, country, session):\n",
    "    \"\"\"\n",
    "    parameteres:\n",
    "        year: int\n",
    "        country: str\n",
    "        session: str\n",
    "    \n",
    "    returns:\n",
    "        race: DataFrame\n",
    "    \"\"\"\n",
    "\n",
    "    session = ff1.get_session(year, country, session)\n",
    "    session.load()\n",
    "    laps = session.laps\n",
    "    weather = laps.get_weather_data()\n",
    "    race = pd.DataFrame({\n",
    "    'LapNumber': laps['LapNumber'].values,\n",
    "    'Stint': laps['Stint'].values,\n",
    "    'Compound': laps['Compound'].values,\n",
    "    'TyreLife': laps['TyreLife'].values,\n",
    "    'TrackTemp': weather['TrackTemp'].values,\n",
    "    'Rainfall': weather['Rainfall'].values\n",
    "    })\n",
    "    race['RoundNumber'] = session.event.RoundNumber\n",
    "    race['TotalLaps'] = laps['LapNumber'].max()\n",
    "    return(race)"
   ]
  },
  {
   "cell_type": "markdown",
   "id": "d9bb8b93",
   "metadata": {},
   "source": [
    "Dataset will contain lap data from the Canadian GP, British GP, Italien GP, Bahrain GP,and Saudi Arabia GP from 2023 and 2024"
   ]
  },
  {
   "cell_type": "code",
   "execution_count": null,
   "id": "1d974b02",
   "metadata": {},
   "outputs": [],
   "source": [
    "canada23 = gpData(2023, 'Canada', 'r')\n",
    "canada24 = gpData(2024, 'Canada', 'r')\n",
    "canada = pd.concat([canada23, canada24], ignore_index=True)\n",
    "\n",
    "british23 = gpData(2023, 'British', 'r')\n",
    "british24 = gpData(2024, 'British', 'r')\n",
    "british = pd.concat([british23, british24], ignore_index=True)\n",
    "\n",
    "italian23 = gpData(2023, 'Italian', 'r')\n",
    "italian24 = gpData(2024, 'Italian', 'r')\n",
    "italian = pd.concat([italian23, italian24], ignore_index=True)\n",
    "\n",
    "bahrain23 = gpData(2023, 'Bahrain', 'r')\n",
    "bahrain24 = gpData(2024, 'Bahrain', 'r')\n",
    "bahrain = pd.concat([bahrain23, bahrain24], ignore_index=True)\n",
    "\n",
    "saudi23 = gpData(2023, 'Saudi Arabia', 'r')\n",
    "saudi24 = gpData(2024, 'Saudi Arabia', 'r')\n",
    "saudi = pd.concat([saudi23, saudi24], ignore_index=True)\n",
    "\n",
    "lapData = pd.concat([canada, british, italian, bahrain, saudi], ignore_index=True)\n",
    "lapData"
   ]
  },
  {
   "cell_type": "code",
   "execution_count": null,
   "id": "d9076864",
   "metadata": {},
   "outputs": [],
   "source": [
    "# make column categoryt types\n",
    "lapData['Compound'] = lapData['Compound'].astype('category')\n",
    "lapData['Stint'] = lapData['Stint'].astype('category')\n",
    "lapData['RoundNumber'] = lapData['RoundNumber'].astype('category')\n",
    "\n",
    "# make bools into ints\n",
    "lapData['Rainfall'] = lapData['Rainfall'].astype(int)\n",
    "\n"
   ]
  },
  {
   "cell_type": "code",
   "execution_count": null,
   "id": "6be2ebc0",
   "metadata": {},
   "outputs": [],
   "source": []
  }
 ],
 "metadata": {
  "kernelspec": {
   "display_name": "Python 3",
   "language": "python",
   "name": "python3"
  },
  "language_info": {
   "codemirror_mode": {
    "name": "ipython",
    "version": 3
   },
   "file_extension": ".py",
   "mimetype": "text/x-python",
   "name": "python",
   "nbconvert_exporter": "python",
   "pygments_lexer": "ipython3",
   "version": "3.9.21"
  }
 },
 "nbformat": 4,
 "nbformat_minor": 5
}

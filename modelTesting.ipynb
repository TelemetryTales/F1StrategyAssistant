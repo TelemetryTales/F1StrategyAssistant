{
 "cells": [
  {
   "cell_type": "markdown",
   "id": "34794d19",
   "metadata": {},
   "source": [
    "This file is part of F1StrategyAssistent.\n",
    "\n",
    "F1StrategyAssistent is free software: you can redistribute it and/or modify it under the terms of the GNU General Public License as published by the Free Software Foundation, either version 3 of the License, or (at your option) any later version.\n",
    "\n",
    "F1StrategyAssistent is distributed in the hope that it will be useful, but WITHOUT ANY WARRANTY; without even the implied warranty of MERCHANTABILITY or FITNESS FOR A PARTICULAR PURPOSE. See the GNU General Public License for more details.\n",
    "\n",
    "F1StrategyAssistent is unofficial and is not associated in any way with the Formula 1 companies. F1, FORMULA ONE, FORMULA 1, FIA FORMULA ONE WORLD CHAMPIONSHIP, GRAND PRIX and related marks are trade marks of Formula One Licensing B.V."
   ]
  },
  {
   "cell_type": "code",
   "execution_count": 3,
   "id": "a4c28e39",
   "metadata": {},
   "outputs": [],
   "source": [
    "from matplotlib import pyplot as plt\n",
    "import matplotlib.ticker as ticker\n",
    "import pandas as pd\n",
    "import numpy as np\n",
    "import fastf1 as ff1\n",
    "import fastf1.plotting"
   ]
  },
  {
   "cell_type": "code",
   "execution_count": 4,
   "id": "9e6f9270",
   "metadata": {},
   "outputs": [],
   "source": [
    "pit_stop_cost={\n",
    "    'Canada': 0.18,\n",
    "    'United Kingdon': 0.20,\n",
    "    'Italy': 0.23,\n",
    "    'Bahrein': 0.23,\n",
    "    'Saudi Arabia': 0.2\n",
    "}\n",
    "\n",
    "pit_stop_cost_sc={\n",
    "    'Canada':0.9,\n",
    "    'United Kingdon':0.9,\n",
    "    'Italy': 0.15,\n",
    "    'Bahrein': 16,\n",
    "    'Saudi Arabia': 0.11\n",
    "\n",
    "}"
   ]
  },
  {
   "cell_type": "code",
   "execution_count": 5,
   "id": "a17eee36",
   "metadata": {},
   "outputs": [],
   "source": [
    "def gpData1(year, country, session):\n",
    "\n",
    "    session = ff1.get_session(year, country, session)\n",
    "    session.load()\n",
    "    laps = session.laps\n",
    "    laps.sort_values(by=['LapNumber', 'Position'], inplace=True)\n",
    "    laps.reset_index(drop=True, inplace=True)\n",
    "    weather = laps.get_weather_data()\n",
    "    race = pd.DataFrame({\n",
    "        'LapNumber': laps['LapNumber'].values,\n",
    "        'Position': laps['Position'].values,\n",
    "        'Compound': laps['Compound'].values,\n",
    "        'TyreLife': laps['TyreLife'].values,\n",
    "        'TrackStatus': laps['TrackStatus'].map(lambda x: 1 if x == 4 else (2 if x == 6 else 0)),\n",
    "        'TrackTemp': weather['TrackTemp'].values,\n",
    "        'Rainfall': weather['Rainfall'].values.astype(int)\n",
    "    })\n",
    "    race['RoundNumber'] = session.event.RoundNumber\n",
    "\n",
    "    laps.sort_values(by=['Driver', 'LapNumber'], inplace=True)\n",
    "    \n",
    "   # Define the condition when a car is making a pit stop\n",
    "    pit_stop_condition = (\n",
    "    (laps['PitInTime'].notna()) &\n",
    "    (laps['TyreLife'] >= laps['TyreLife'].shift(-1)) &\n",
    "    (laps['PitOutTime'].shift(-1).notna())\n",
    "    )\n",
    "\n",
    "    # Create a target series for pit stop (1 for pit, 0 for no pit)\n",
    "    pitting = pd.Series(np.where(pit_stop_condition, 1, 0))\n",
    "    pitting.index = laps.index\n",
    "    pitting.sort_index(inplace=True)\n",
    "\n",
    "    return race, pitting"
   ]
  },
  {
   "cell_type": "code",
   "execution_count": 7,
   "id": "194f0cd4",
   "metadata": {},
   "outputs": [
    {
     "name": "stderr",
     "output_type": "stream",
     "text": [
      "core           INFO \tLoading data for Saudi Arabian Grand Prix - Race [v3.5.3]\n",
      "req            INFO \tUsing cached data for session_info\n",
      "req            INFO \tUsing cached data for driver_info\n",
      "req            INFO \tUsing cached data for session_status_data\n",
      "req            INFO \tUsing cached data for lap_count\n",
      "req            INFO \tUsing cached data for track_status_data\n",
      "req            INFO \tUsing cached data for _extended_timing_data\n",
      "req            INFO \tUsing cached data for timing_app_data\n",
      "core           INFO \tProcessing timing data...\n"
     ]
    },
    {
     "ename": "KeyboardInterrupt",
     "evalue": "",
     "output_type": "error",
     "traceback": [
      "\u001b[0;31m---------------------------------------------------------------------------\u001b[0m",
      "\u001b[0;31mKeyboardInterrupt\u001b[0m                         Traceback (most recent call last)",
      "Cell \u001b[0;32mIn[7], line 1\u001b[0m\n\u001b[0;32m----> 1\u001b[0m saudi2023, saudi2023_target \u001b[38;5;241m=\u001b[39m \u001b[43mgpData1\u001b[49m\u001b[43m(\u001b[49m\u001b[38;5;241;43m2023\u001b[39;49m\u001b[43m,\u001b[49m\u001b[43m \u001b[49m\u001b[38;5;124;43m'\u001b[39;49m\u001b[38;5;124;43mSaudi Arabia\u001b[39;49m\u001b[38;5;124;43m'\u001b[39;49m\u001b[43m,\u001b[49m\u001b[43m \u001b[49m\u001b[38;5;124;43m'\u001b[39;49m\u001b[38;5;124;43mr\u001b[39;49m\u001b[38;5;124;43m'\u001b[39;49m\u001b[43m)\u001b[49m\n\u001b[1;32m      2\u001b[0m saudi2024, saudi2024_target \u001b[38;5;241m=\u001b[39m gpData1(\u001b[38;5;241m2024\u001b[39m, \u001b[38;5;124m'\u001b[39m\u001b[38;5;124mSaudi Arabia\u001b[39m\u001b[38;5;124m'\u001b[39m, \u001b[38;5;124m'\u001b[39m\u001b[38;5;124mr\u001b[39m\u001b[38;5;124m'\u001b[39m)\n",
      "Cell \u001b[0;32mIn[5], line 4\u001b[0m, in \u001b[0;36mgpData1\u001b[0;34m(year, country, session)\u001b[0m\n\u001b[1;32m      1\u001b[0m \u001b[38;5;28;01mdef\u001b[39;00m \u001b[38;5;21mgpData1\u001b[39m(year, country, session):\n\u001b[1;32m      3\u001b[0m     session \u001b[38;5;241m=\u001b[39m ff1\u001b[38;5;241m.\u001b[39mget_session(year, country, session)\n\u001b[0;32m----> 4\u001b[0m     \u001b[43msession\u001b[49m\u001b[38;5;241;43m.\u001b[39;49m\u001b[43mload\u001b[49m\u001b[43m(\u001b[49m\u001b[43m)\u001b[49m\n\u001b[1;32m      5\u001b[0m     laps \u001b[38;5;241m=\u001b[39m session\u001b[38;5;241m.\u001b[39mlaps\n\u001b[1;32m      6\u001b[0m     laps\u001b[38;5;241m.\u001b[39msort_values(by\u001b[38;5;241m=\u001b[39m[\u001b[38;5;124m'\u001b[39m\u001b[38;5;124mLapNumber\u001b[39m\u001b[38;5;124m'\u001b[39m, \u001b[38;5;124m'\u001b[39m\u001b[38;5;124mPosition\u001b[39m\u001b[38;5;124m'\u001b[39m], inplace\u001b[38;5;241m=\u001b[39m\u001b[38;5;28;01mTrue\u001b[39;00m)\n",
      "File \u001b[0;32m~/Documents/Projects/CarVsDriver/.conda/lib/python3.9/site-packages/fastf1/core.py:1439\u001b[0m, in \u001b[0;36mSession.load\u001b[0;34m(self, laps, telemetry, weather, messages, livedata)\u001b[0m\n\u001b[1;32m   1437\u001b[0m     \u001b[38;5;28mself\u001b[39m\u001b[38;5;241m.\u001b[39m_load_total_lap_count(livedata\u001b[38;5;241m=\u001b[39mlivedata)\n\u001b[1;32m   1438\u001b[0m     \u001b[38;5;28mself\u001b[39m\u001b[38;5;241m.\u001b[39m_load_track_status_data(livedata\u001b[38;5;241m=\u001b[39mlivedata)\n\u001b[0;32m-> 1439\u001b[0m     \u001b[38;5;28;43mself\u001b[39;49m\u001b[38;5;241;43m.\u001b[39;49m\u001b[43m_load_laps_data\u001b[49m\u001b[43m(\u001b[49m\u001b[43mlivedata\u001b[49m\u001b[38;5;241;43m=\u001b[39;49m\u001b[43mlivedata\u001b[49m\u001b[43m)\u001b[49m\n\u001b[1;32m   1440\u001b[0m     \u001b[38;5;28mself\u001b[39m\u001b[38;5;241m.\u001b[39m_add_first_lap_time_from_ergast()\n\u001b[1;32m   1442\u001b[0m \u001b[38;5;28;01mif\u001b[39;00m telemetry:\n",
      "File \u001b[0;32m~/Documents/Projects/CarVsDriver/.conda/lib/python3.9/site-packages/fastf1/logger.py:151\u001b[0m, in \u001b[0;36msoft_exceptions.<locals>.__decorator.<locals>.__wrapped\u001b[0;34m(*args, **kwargs)\u001b[0m\n\u001b[1;32m    149\u001b[0m \u001b[38;5;28;01mif\u001b[39;00m \u001b[38;5;129;01mnot\u001b[39;00m LoggingManager\u001b[38;5;241m.\u001b[39mdebug:\n\u001b[1;32m    150\u001b[0m     \u001b[38;5;28;01mtry\u001b[39;00m:\n\u001b[0;32m--> 151\u001b[0m         \u001b[38;5;28;01mreturn\u001b[39;00m \u001b[43mfunc\u001b[49m\u001b[43m(\u001b[49m\u001b[38;5;241;43m*\u001b[39;49m\u001b[43margs\u001b[49m\u001b[43m,\u001b[49m\u001b[43m \u001b[49m\u001b[38;5;241;43m*\u001b[39;49m\u001b[38;5;241;43m*\u001b[39;49m\u001b[43mkwargs\u001b[49m\u001b[43m)\u001b[49m\n\u001b[1;32m    152\u001b[0m     \u001b[38;5;28;01mexcept\u001b[39;00m \u001b[38;5;167;01mException\u001b[39;00m \u001b[38;5;28;01mas\u001b[39;00m exc:\n\u001b[1;32m    153\u001b[0m         logger\u001b[38;5;241m.\u001b[39mwarning(msg)\n",
      "File \u001b[0;32m~/Documents/Projects/CarVsDriver/.conda/lib/python3.9/site-packages/fastf1/core.py:1506\u001b[0m, in \u001b[0;36mSession._load_laps_data\u001b[0;34m(self, livedata)\u001b[0m\n\u001b[1;32m   1502\u001b[0m d2 \u001b[38;5;241m=\u001b[39m useful[useful[\u001b[38;5;124m'\u001b[39m\u001b[38;5;124mDriver\u001b[39m\u001b[38;5;124m'\u001b[39m] \u001b[38;5;241m==\u001b[39m driver]\n\u001b[1;32m   1503\u001b[0m \u001b[38;5;28;01mif\u001b[39;00m d2\u001b[38;5;241m.\u001b[39mshape[\u001b[38;5;241m0\u001b[39m] \u001b[38;5;241m!=\u001b[39m \u001b[38;5;28mlen\u001b[39m(d2[\u001b[38;5;124m'\u001b[39m\u001b[38;5;124mStint\u001b[39m\u001b[38;5;124m'\u001b[39m]\u001b[38;5;241m.\u001b[39munique()):\n\u001b[1;32m   1504\u001b[0m     \u001b[38;5;66;03m# tyre info includes correction messages that need to be\u001b[39;00m\n\u001b[1;32m   1505\u001b[0m     \u001b[38;5;66;03m# applied before continuing\u001b[39;00m\n\u001b[0;32m-> 1506\u001b[0m     d2 \u001b[38;5;241m=\u001b[39m \u001b[38;5;28;43mself\u001b[39;49m\u001b[38;5;241;43m.\u001b[39;49m\u001b[43m__fix_tyre_info\u001b[49m\u001b[43m(\u001b[49m\u001b[43md2\u001b[49m\u001b[43m)\u001b[49m\n\u001b[1;32m   1508\u001b[0m is_generated \u001b[38;5;241m=\u001b[39m \u001b[38;5;28;01mFalse\u001b[39;00m\n\u001b[1;32m   1509\u001b[0m \u001b[38;5;28;01mif\u001b[39;00m \u001b[38;5;129;01mnot\u001b[39;00m \u001b[38;5;28mlen\u001b[39m(d1):\n",
      "File \u001b[0;32m~/Documents/Projects/CarVsDriver/.conda/lib/python3.9/site-packages/fastf1/core.py:2078\u001b[0m, in \u001b[0;36mSession.__fix_tyre_info\u001b[0;34m(self, df)\u001b[0m\n\u001b[1;32m   2074\u001b[0m \u001b[38;5;28;01mfor\u001b[39;00m i, stint \u001b[38;5;129;01min\u001b[39;00m \u001b[38;5;28menumerate\u001b[39m(df[\u001b[38;5;124m'\u001b[39m\u001b[38;5;124mStint\u001b[39m\u001b[38;5;124m'\u001b[39m]\u001b[38;5;241m.\u001b[39munique()):\n\u001b[1;32m   2075\u001b[0m     \u001b[38;5;28;01mfor\u001b[39;00m _, row \u001b[38;5;129;01min\u001b[39;00m df\u001b[38;5;241m.\u001b[39mloc[df[\u001b[38;5;124m'\u001b[39m\u001b[38;5;124mStint\u001b[39m\u001b[38;5;124m'\u001b[39m] \u001b[38;5;241m==\u001b[39m stint]\u001b[38;5;241m.\u001b[39miterrows():\n\u001b[1;32m   2076\u001b[0m         \u001b[38;5;66;03m# iterate over all messages (rows) that were received for this\u001b[39;00m\n\u001b[1;32m   2077\u001b[0m         \u001b[38;5;66;03m# stint\u001b[39;00m\n\u001b[0;32m-> 2078\u001b[0m         \u001b[38;5;28;01mif\u001b[39;00m \u001b[43mpd\u001b[49m\u001b[38;5;241;43m.\u001b[39;49m\u001b[43misna\u001b[49m\u001b[43m(\u001b[49m\u001b[43mcorrected\u001b[49m\u001b[38;5;241;43m.\u001b[39;49m\u001b[43mloc\u001b[49m\u001b[43m[\u001b[49m\u001b[43mi\u001b[49m\u001b[43m]\u001b[49m\u001b[43m)\u001b[49m\u001b[38;5;241m.\u001b[39mall():\n\u001b[1;32m   2079\u001b[0m             \u001b[38;5;66;03m# first message: set as a whole (performance)\u001b[39;00m\n\u001b[1;32m   2080\u001b[0m             corrected\u001b[38;5;241m.\u001b[39mloc[i] \u001b[38;5;241m=\u001b[39m row\n\u001b[1;32m   2081\u001b[0m             \u001b[38;5;28;01mcontinue\u001b[39;00m\n",
      "File \u001b[0;32m~/Documents/Projects/CarVsDriver/.conda/lib/python3.9/site-packages/pandas/core/dtypes/missing.py:178\u001b[0m, in \u001b[0;36misna\u001b[0;34m(obj)\u001b[0m\n\u001b[1;32m    101\u001b[0m \u001b[38;5;28;01mdef\u001b[39;00m \u001b[38;5;21misna\u001b[39m(obj: \u001b[38;5;28mobject\u001b[39m) \u001b[38;5;241m-\u001b[39m\u001b[38;5;241m>\u001b[39m \u001b[38;5;28mbool\u001b[39m \u001b[38;5;241m|\u001b[39m npt\u001b[38;5;241m.\u001b[39mNDArray[np\u001b[38;5;241m.\u001b[39mbool_] \u001b[38;5;241m|\u001b[39m NDFrame:\n\u001b[1;32m    102\u001b[0m \u001b[38;5;250m    \u001b[39m\u001b[38;5;124;03m\"\"\"\u001b[39;00m\n\u001b[1;32m    103\u001b[0m \u001b[38;5;124;03m    Detect missing values for an array-like object.\u001b[39;00m\n\u001b[1;32m    104\u001b[0m \n\u001b[0;32m   (...)\u001b[0m\n\u001b[1;32m    176\u001b[0m \u001b[38;5;124;03m    Name: 1, dtype: bool\u001b[39;00m\n\u001b[1;32m    177\u001b[0m \u001b[38;5;124;03m    \"\"\"\u001b[39;00m\n\u001b[0;32m--> 178\u001b[0m     \u001b[38;5;28;01mreturn\u001b[39;00m \u001b[43m_isna\u001b[49m\u001b[43m(\u001b[49m\u001b[43mobj\u001b[49m\u001b[43m)\u001b[49m\n",
      "File \u001b[0;32m~/Documents/Projects/CarVsDriver/.conda/lib/python3.9/site-packages/pandas/core/dtypes/missing.py:206\u001b[0m, in \u001b[0;36m_isna\u001b[0;34m(obj, inf_as_na)\u001b[0m\n\u001b[1;32m    204\u001b[0m \u001b[38;5;28;01melif\u001b[39;00m \u001b[38;5;28misinstance\u001b[39m(obj, \u001b[38;5;28mtype\u001b[39m):\n\u001b[1;32m    205\u001b[0m     \u001b[38;5;28;01mreturn\u001b[39;00m \u001b[38;5;28;01mFalse\u001b[39;00m\n\u001b[0;32m--> 206\u001b[0m \u001b[38;5;28;01melif\u001b[39;00m \u001b[38;5;28;43misinstance\u001b[39;49m\u001b[43m(\u001b[49m\u001b[43mobj\u001b[49m\u001b[43m,\u001b[49m\u001b[43m \u001b[49m\u001b[43m(\u001b[49m\u001b[43mnp\u001b[49m\u001b[38;5;241;43m.\u001b[39;49m\u001b[43mndarray\u001b[49m\u001b[43m,\u001b[49m\u001b[43m \u001b[49m\u001b[43mABCExtensionArray\u001b[49m\u001b[43m)\u001b[49m\u001b[43m)\u001b[49m:\n\u001b[1;32m    207\u001b[0m     \u001b[38;5;28;01mreturn\u001b[39;00m _isna_array(obj, inf_as_na\u001b[38;5;241m=\u001b[39minf_as_na)\n\u001b[1;32m    208\u001b[0m \u001b[38;5;28;01melif\u001b[39;00m \u001b[38;5;28misinstance\u001b[39m(obj, ABCIndex):\n\u001b[1;32m    209\u001b[0m     \u001b[38;5;66;03m# Try to use cached isna, which also short-circuits for integer dtypes\u001b[39;00m\n\u001b[1;32m    210\u001b[0m     \u001b[38;5;66;03m#  and avoids materializing RangeIndex._values\u001b[39;00m\n",
      "File \u001b[0;32m~/Documents/Projects/CarVsDriver/.conda/lib/python3.9/site-packages/pandas/core/dtypes/generic.py:42\u001b[0m, in \u001b[0;36mcreate_pandas_abc_type.<locals>._instancecheck\u001b[0;34m(cls, inst)\u001b[0m\n\u001b[1;32m     38\u001b[0m     \u001b[38;5;28;01mreturn\u001b[39;00m \u001b[38;5;28mgetattr\u001b[39m(inst, attr, \u001b[38;5;124m\"\u001b[39m\u001b[38;5;124m_typ\u001b[39m\u001b[38;5;124m\"\u001b[39m) \u001b[38;5;129;01min\u001b[39;00m comp\n\u001b[1;32m     40\u001b[0m \u001b[38;5;66;03m# https://github.com/python/mypy/issues/1006\u001b[39;00m\n\u001b[1;32m     41\u001b[0m \u001b[38;5;66;03m# error: 'classmethod' used with a non-method\u001b[39;00m\n\u001b[0;32m---> 42\u001b[0m \u001b[38;5;129m@classmethod\u001b[39m  \u001b[38;5;66;03m# type: ignore[misc]\u001b[39;00m\n\u001b[1;32m     43\u001b[0m \u001b[38;5;28;01mdef\u001b[39;00m \u001b[38;5;21m_instancecheck\u001b[39m(\u001b[38;5;28mcls\u001b[39m, inst) \u001b[38;5;241m-\u001b[39m\u001b[38;5;241m>\u001b[39m \u001b[38;5;28mbool\u001b[39m:\n\u001b[1;32m     44\u001b[0m     \u001b[38;5;28;01mreturn\u001b[39;00m _check(inst) \u001b[38;5;129;01mand\u001b[39;00m \u001b[38;5;129;01mnot\u001b[39;00m \u001b[38;5;28misinstance\u001b[39m(inst, \u001b[38;5;28mtype\u001b[39m)\n\u001b[1;32m     46\u001b[0m \u001b[38;5;129m@classmethod\u001b[39m  \u001b[38;5;66;03m# type: ignore[misc]\u001b[39;00m\n\u001b[1;32m     47\u001b[0m \u001b[38;5;28;01mdef\u001b[39;00m \u001b[38;5;21m_subclasscheck\u001b[39m(\u001b[38;5;28mcls\u001b[39m, inst) \u001b[38;5;241m-\u001b[39m\u001b[38;5;241m>\u001b[39m \u001b[38;5;28mbool\u001b[39m:\n\u001b[1;32m     48\u001b[0m     \u001b[38;5;66;03m# Raise instead of returning False\u001b[39;00m\n\u001b[1;32m     49\u001b[0m     \u001b[38;5;66;03m# This is consistent with default __subclasscheck__ behavior\u001b[39;00m\n",
      "\u001b[0;31mKeyboardInterrupt\u001b[0m: "
     ]
    }
   ],
   "source": [
    "saudi2023, saudi2023_target = gpData1(2023, 'Saudi Arabia', 'r')\n",
    "saudi2024, saudi2024_target = gpData1(2024, 'Saudi Arabia', 'r')"
   ]
  },
  {
   "cell_type": "code",
   "execution_count": 8,
   "id": "3c73b748",
   "metadata": {},
   "outputs": [],
   "source": [
    "# Combine lap data from the 2 races.\n",
    "lapData = pd.concat([saudi2023, saudi2024], ignore_index=True)\n",
    "target = pd.concat([saudi2023_target, saudi2024_target], ignore_index=True)"
   ]
  },
  {
   "cell_type": "code",
   "execution_count": 9,
   "id": "3b50d393",
   "metadata": {},
   "outputs": [
    {
     "data": {
      "text/plain": [
       "LapNumber       float64\n",
       "Position       category\n",
       "Compound       category\n",
       "TyreLife        float64\n",
       "TrackStatus       int64\n",
       "TrackTemp       float64\n",
       "Rainfall       category\n",
       "RoundNumber    category\n",
       "dtype: object"
      ]
     },
     "execution_count": 9,
     "metadata": {},
     "output_type": "execute_result"
    }
   ],
   "source": [
    "# make bools into ints\n",
    "lapData['Rainfall'] = lapData['Rainfall'].astype(int)\n",
    "\n",
    "# encode compound types\n",
    "lapData['Compound'] = lapData['Compound'].astype('category').cat.codes\n",
    "\n",
    "# make column category types\n",
    "lapData['Position'] = lapData['Position'].astype('category')\n",
    "lapData['Compound'] = lapData['Compound'].astype('category')\n",
    "lapData['Rainfall'] = lapData['Rainfall'].astype('category')\n",
    "lapData['RoundNumber'] = lapData['RoundNumber'].astype('category')\n",
    "lapData.dtypes"
   ]
  },
  {
   "cell_type": "code",
   "execution_count": 8,
   "id": "c20dbe80",
   "metadata": {},
   "outputs": [],
   "source": [
    "def gpData(year, country, session):\n",
    "    \"\"\"\n",
    "    Parameters:\n",
    "        year (int): The year of the race (e.g., 2023, 2024).\n",
    "        country (str): The country where the race is held (e.g., 'Saudi Arabia').\n",
    "        session (str): The session of the race (e.g., 'r' for race, 'q' for qualifying).\n",
    "\n",
    "    Returns:\n",
    "        race (DataFrame): A DataFrame containing lap-level data and derived features.\n",
    "        pitting (Series): A series indicating whether a pit stop occurred (1 for pit, 0 for no pit).\n",
    "    \"\"\"\n",
    "\n",
    "    # Load the specified session using the FastF1 API\n",
    "    session = ff1.get_session(year, country, session)\n",
    "    session.load()\n",
    "\n",
    "    # Extract lap data and sort by lap number and position\n",
    "    laps = session.laps\n",
    "    laps.sort_values(by=['LapNumber', 'Position'], inplace=True)\n",
    "    laps.reset_index(drop=True, inplace=True)\n",
    "\n",
    "    # Get weather data for the session\n",
    "    weather = laps.get_weather_data()\n",
    "\n",
    "    # Create the race DataFrame with relevant lap-level data\n",
    "    race = pd.DataFrame({\n",
    "        'LapNumber': laps['LapNumber'].values,\n",
    "        'Position': laps['Position'].values,\n",
    "        'Compound': laps['Compound'].values,\n",
    "        'TyreLife': laps['TyreLife'].values,\n",
    "        'TrackStatus': laps['TrackStatus'].map(lambda x: 1 if x == 4 else (2 if x == 6 else 0)),\n",
    "        'TrackTemp': weather['TrackTemp'].values,\n",
    "        'Rainfall': weather['Rainfall'].values.astype(int)\n",
    "    })\n",
    "\n",
    "\n",
    "    # Calculate the delta time between consecutive laps for each driver\n",
    "    lap_time_delta = pd.Series()\n",
    "\n",
    "    for i, driver in laps.groupby('Driver'):\n",
    "        delta =[]\n",
    "        delta = driver['LapTime'].dt.total_seconds().diff()\n",
    "        delta.fillna(0, inplace=True)\n",
    "        lap_time_delta = pd.concat([lap_time_delta, delta])\n",
    "\n",
    "    race['DeltaTime'] = lap_time_delta\n",
    "\n",
    "\n",
    "    # Calculate average distance to the driver ahead over a lap in seconds\n",
    "    gap = []\n",
    "    for i, l in laps.iterlaps():\n",
    "        dist = l.get_telemetry().DistanceToDriverAhead\n",
    "        speed = l.get_telemetry().Speed*3.6\n",
    "\n",
    "        gap.append((dist/speed).mean())\n",
    "\n",
    "    race['GapAhead'] = gap\n",
    "    race['GapAhead'].replace(np.inf,np.nan, inplace=True)\n",
    "    race['GapAhead'].fillna(0, inplace=True)\n",
    "\n",
    "    \n",
    "    # Add country of the race\n",
    "    race['Country'] = session.event.Country\n",
    "\n",
    "    \n",
    "    # Calculate the number of positions that would be lost if the driver pitted in that lap\n",
    "    lost_pos = []\n",
    "\n",
    "    for i,group in race.groupby('LapNumber'):\n",
    "        k = 0\n",
    "        for j in group.index:\n",
    "            if group.loc[j,'TrackStatus'] == 0:\n",
    "                pit_loss = 0.2\n",
    "                \n",
    "            else :\n",
    "                pit_loss = 0.11\n",
    "            counter = 1\n",
    "            loss = 0\n",
    "            while (loss < pit_loss) & ((k+counter) < group.index.size):\n",
    "                loss += group.loc[j+counter,'GapAhead']\n",
    "                counter += 1\n",
    "\n",
    "            lost_pos.append(counter)\n",
    "            k += 1\n",
    "\n",
    "    race['PosToLose'] = lost_pos\n",
    "\n",
    "    \n",
    "    race['TotalLaps'] = laps['LapNumber'].max()\n",
    "    race['RemainingLaps'] = race['TotalLaps'] - race['LapNumber']\n",
    "\n",
    "    \n",
    "    laps.sort_values(by=['Driver', 'LapNumber'], inplace=True)\n",
    "    \n",
    "   # Define the condition when a car is making a pit stop\n",
    "    pit_stop_condition = (\n",
    "    (laps['PitInTime'].notna()) &\n",
    "    (laps['TyreLife'] >= laps['TyreLife'].shift(-1)) &\n",
    "    (laps['PitOutTime'].shift(-1).notna())\n",
    "    )\n",
    "\n",
    "    # Create a target series for pit stop (1 for pit, 0 for no pit)\n",
    "    pitting = pd.Series(np.where(pit_stop_condition, 1, 0))\n",
    "    pitting.index = laps.index\n",
    "    pitting.sort_index(inplace=True)\n",
    "\n",
    "    return race, pitting"
   ]
  },
  {
   "cell_type": "code",
   "execution_count": 9,
   "id": "3a2a1604",
   "metadata": {},
   "outputs": [
    {
     "name": "stderr",
     "output_type": "stream",
     "text": [
      "core           INFO \tLoading data for Saudi Arabian Grand Prix - Race [v3.5.3]\n",
      "req            INFO \tUsing cached data for session_info\n",
      "req            INFO \tUsing cached data for driver_info\n",
      "req            INFO \tUsing cached data for session_status_data\n",
      "req            INFO \tUsing cached data for lap_count\n",
      "req            INFO \tUsing cached data for track_status_data\n",
      "req            INFO \tUsing cached data for _extended_timing_data\n",
      "req            INFO \tUsing cached data for timing_app_data\n",
      "core           INFO \tProcessing timing data...\n",
      "req            INFO \tUsing cached data for car_data\n",
      "req            INFO \tUsing cached data for position_data\n",
      "req            INFO \tUsing cached data for weather_data\n",
      "req            INFO \tUsing cached data for race_control_messages\n",
      "core        WARNING \tDriver 11 completed the race distance 00:00.035000 before the recorded end of the session.\n",
      "core           INFO \tFinished loading data for 20 drivers: ['11', '1', '14', '63', '44', '55', '16', '31', '10', '20', '22', '27', '24', '21', '81', '2', '4', '77', '23', '18']\n",
      "/var/folders/d_/7s822lfj1tjgdlqm3b8yj60w0000gn/T/ipykernel_2309/4102527917.py:44: FutureWarning: The behavior of array concatenation with empty entries is deprecated. In a future version, this will no longer exclude empty items when determining the result dtype. To retain the old behavior, exclude the empty entries before the concat operation.\n",
      "  lap_time_delta = pd.concat([lap_time_delta, delta])\n",
      "/var/folders/d_/7s822lfj1tjgdlqm3b8yj60w0000gn/T/ipykernel_2309/4102527917.py:58: FutureWarning: A value is trying to be set on a copy of a DataFrame or Series through chained assignment using an inplace method.\n",
      "The behavior will change in pandas 3.0. This inplace method will never work because the intermediate object on which we are setting values always behaves as a copy.\n",
      "\n",
      "For example, when doing 'df[col].method(value, inplace=True)', try using 'df.method({col: value}, inplace=True)' or df[col] = df[col].method(value) instead, to perform the operation inplace on the original object.\n",
      "\n",
      "\n",
      "  race['GapAhead'].replace(np.inf,np.nan, inplace=True)\n",
      "/var/folders/d_/7s822lfj1tjgdlqm3b8yj60w0000gn/T/ipykernel_2309/4102527917.py:59: FutureWarning: A value is trying to be set on a copy of a DataFrame or Series through chained assignment using an inplace method.\n",
      "The behavior will change in pandas 3.0. This inplace method will never work because the intermediate object on which we are setting values always behaves as a copy.\n",
      "\n",
      "For example, when doing 'df[col].method(value, inplace=True)', try using 'df.method({col: value}, inplace=True)' or df[col] = df[col].method(value) instead, to perform the operation inplace on the original object.\n",
      "\n",
      "\n",
      "  race['GapAhead'].fillna(0, inplace=True)\n",
      "core           INFO \tLoading data for Saudi Arabian Grand Prix - Race [v3.5.3]\n",
      "req            INFO \tUsing cached data for session_info\n",
      "req            INFO \tUsing cached data for driver_info\n",
      "req            INFO \tUsing cached data for session_status_data\n",
      "req            INFO \tUsing cached data for lap_count\n",
      "req            INFO \tUsing cached data for track_status_data\n",
      "req            INFO \tUsing cached data for _extended_timing_data\n",
      "req            INFO \tUsing cached data for timing_app_data\n",
      "core           INFO \tProcessing timing data...\n",
      "req            INFO \tUsing cached data for car_data\n",
      "req            INFO \tUsing cached data for position_data\n",
      "req            INFO \tUsing cached data for weather_data\n",
      "req            INFO \tUsing cached data for race_control_messages\n",
      "core           INFO \tFinished loading data for 20 drivers: ['1', '11', '16', '81', '14', '63', '38', '4', '44', '27', '23', '20', '31', '2', '22', '3', '77', '24', '18', '10']\n",
      "/var/folders/d_/7s822lfj1tjgdlqm3b8yj60w0000gn/T/ipykernel_2309/4102527917.py:44: FutureWarning: The behavior of array concatenation with empty entries is deprecated. In a future version, this will no longer exclude empty items when determining the result dtype. To retain the old behavior, exclude the empty entries before the concat operation.\n",
      "  lap_time_delta = pd.concat([lap_time_delta, delta])\n",
      "/var/folders/d_/7s822lfj1tjgdlqm3b8yj60w0000gn/T/ipykernel_2309/4102527917.py:58: FutureWarning: A value is trying to be set on a copy of a DataFrame or Series through chained assignment using an inplace method.\n",
      "The behavior will change in pandas 3.0. This inplace method will never work because the intermediate object on which we are setting values always behaves as a copy.\n",
      "\n",
      "For example, when doing 'df[col].method(value, inplace=True)', try using 'df.method({col: value}, inplace=True)' or df[col] = df[col].method(value) instead, to perform the operation inplace on the original object.\n",
      "\n",
      "\n",
      "  race['GapAhead'].replace(np.inf,np.nan, inplace=True)\n",
      "/var/folders/d_/7s822lfj1tjgdlqm3b8yj60w0000gn/T/ipykernel_2309/4102527917.py:59: FutureWarning: A value is trying to be set on a copy of a DataFrame or Series through chained assignment using an inplace method.\n",
      "The behavior will change in pandas 3.0. This inplace method will never work because the intermediate object on which we are setting values always behaves as a copy.\n",
      "\n",
      "For example, when doing 'df[col].method(value, inplace=True)', try using 'df.method({col: value}, inplace=True)' or df[col] = df[col].method(value) instead, to perform the operation inplace on the original object.\n",
      "\n",
      "\n",
      "  race['GapAhead'].fillna(0, inplace=True)\n"
     ]
    }
   ],
   "source": [
    "saudi23, saudi23_target = gpData(2023, 'Saudi Arabia', 'r')\n",
    "saudi24, saudi24_target = gpData(2024, 'Saudi Arabia', 'r')"
   ]
  },
  {
   "cell_type": "code",
   "execution_count": 12,
   "id": "7e122d52",
   "metadata": {},
   "outputs": [],
   "source": [
    "# Combine lap data from the 2 races.\n",
    "lapData = pd.concat([saudi23, saudi24], ignore_index=True)\n",
    "target = pd.concat([saudi23_target, saudi24_target], ignore_index=True)"
   ]
  },
  {
   "cell_type": "code",
   "execution_count": 13,
   "id": "dd125480",
   "metadata": {},
   "outputs": [],
   "source": [
    "# Drop rows with missing \"Position\" values.\n",
    "rows_to_drop = lapData[lapData[\"Position\"].isna()].index\n",
    "lapData = lapData.drop(rows_to_drop)\n",
    "target = target.drop(rows_to_drop)"
   ]
  },
  {
   "cell_type": "code",
   "execution_count": 14,
   "id": "dc9dba03",
   "metadata": {},
   "outputs": [],
   "source": [
    "# Encode compound types\n",
    "lapData['Compound'] = lapData['Compound'].map(compounds)\n",
    "\n",
    "# Convert relevant columns into categorical data types.\n",
    "lapData['Position'] = lapData['Position'].astype('category')#.cat.codes\n",
    "lapData['Compound'] = lapData['Compound'].astype('category')\n",
    "lapData['Rainfall'] = lapData['Rainfall'].astype('category')#.cat.codes\n",
    "\n",
    "lapData = lapData.drop(columns=['Country'])"
   ]
  },
  {
   "cell_type": "code",
   "execution_count": 146,
   "id": "ec4a121f",
   "metadata": {},
   "outputs": [],
   "source": [
    "lapData_copy = lapData.copy()"
   ]
  },
  {
   "cell_type": "code",
   "execution_count": 57,
   "id": "01f712d0",
   "metadata": {},
   "outputs": [],
   "source": [
    "# from sklearn.preprocessing import StandardScaler\n",
    "# scaler = StandardScaler()\n",
    "# lapData[lapData] = scaler.fit_transform(lapData[lapData])"
   ]
  },
  {
   "cell_type": "code",
   "execution_count": 177,
   "id": "4f813160",
   "metadata": {},
   "outputs": [
    {
     "name": "stdout",
     "output_type": "stream",
     "text": [
      "Average R² score: 0.980468657947449\n"
     ]
    }
   ],
   "source": [
    "from sklearn.ensemble import RandomForestClassifier\n",
    "from sklearn.model_selection import cross_val_score\n",
    "\n",
    "# Initialize model\n",
    "model = RandomForestClassifier(random_state=42, \n",
    "                        max_depth = 5, \n",
    "                        min_samples_leaf = 10, \n",
    "                        n_estimators = 50, \n",
    "                        class_weight= {0: 1, 1: 10})\n",
    "\n",
    "# Perform 5-fold cross-validation\n",
    "scores = cross_val_score(model, lapData, target, cv=5)\n",
    "\n",
    "# Print the average score\n",
    "print(\"Average R² score:\", scores.mean())"
   ]
  },
  {
   "cell_type": "code",
   "execution_count": 182,
   "id": "3472a952",
   "metadata": {},
   "outputs": [],
   "source": [
    "model = RandomForestClassifier(\n",
    "            random_state=42, \n",
    "            max_depth = 5, \n",
    "            min_samples_leaf = 5, \n",
    "            n_estimators = 50, \n",
    "            class_weight= {0: 1, 1: 10})"
   ]
  },
  {
   "cell_type": "code",
   "execution_count": null,
   "id": "9e0251a2",
   "metadata": {},
   "outputs": [],
   "source": [
    "model = RandomForestClassifier(\n",
    "            random_state=42,\n",
    "            max_depth = 5, \n",
    "            min_samples_split = 2, \n",
    "            n_estimators = 50, \n",
    "            class_weight= {0: 1, 1: 5})"
   ]
  },
  {
   "cell_type": "code",
   "execution_count": 100,
   "id": "1b1e08e9",
   "metadata": {},
   "outputs": [],
   "source": [
    "model = RandomForestClassifier(\n",
    "            random_state=42, \n",
    "            max_depth = 5, \n",
    "            min_samples_split = 2, \n",
    "            n_estimators = 50, \n",
    "            class_weight= 'balanced')"
   ]
  },
  {
   "cell_type": "code",
   "execution_count": 208,
   "id": "fe4d4e5b",
   "metadata": {},
   "outputs": [],
   "source": [
    "from sklearn.ensemble import RandomForestClassifier \n",
    "from sklearn.model_selection import train_test_split\n",
    "from sklearn.metrics import accuracy_score, classification_report\n",
    "\n",
    "# model = RandomForestClassifier(\n",
    "#             random_state=42, \n",
    "#             max_depth = 5, \n",
    "#             min_samples_split = 2, \n",
    "#             n_estimators = 50, \n",
    "#             class_weight= {0: 1, 1: 5})\n",
    "            \n",
    "# Split data into training and test sets (80/20 split).\n",
    "lapData_train, lapData_test, target_train, target_test = train_test_split(lapData, target, test_size=0.2, random_state=42)\n",
    "\n",
    "# Fit model\n",
    "model.fit(lapData_train, target_train)\n",
    "\n",
    "# Evaluate the model\n",
    "predictions = model.predict(lapData_test)\n"
   ]
  },
  {
   "cell_type": "code",
   "execution_count": 209,
   "id": "635d1a4d",
   "metadata": {},
   "outputs": [
    {
     "name": "stdout",
     "output_type": "stream",
     "text": [
      "Precision: 0.7142857142857143\n",
      "Recall: 0.625\n",
      "F1 Score: 0.6666666666666666\n",
      "\n",
      "Classification Report:\n",
      "               precision    recall  f1-score   support\n",
      "\n",
      "           0       0.99      0.99      0.99       361\n",
      "           1       0.71      0.62      0.67         8\n",
      "\n",
      "    accuracy                           0.99       369\n",
      "   macro avg       0.85      0.81      0.83       369\n",
      "weighted avg       0.99      0.99      0.99       369\n",
      "\n"
     ]
    },
    {
     "data": {
      "text/plain": [
       "array([[359,   2],\n",
       "       [  3,   5]])"
      ]
     },
     "execution_count": 209,
     "metadata": {},
     "output_type": "execute_result"
    }
   ],
   "source": [
    "from sklearn.metrics import precision_score, recall_score, f1_score, classification_report\n",
    "# Calculate precision, recall, and F1 score for binary classification\n",
    "precision = precision_score(target_test, predictions)\n",
    "recall = recall_score(target_test, predictions)\n",
    "f1 = f1_score(target_test, predictions)\n",
    "\n",
    "# Print classification report for a more detailed overview\n",
    "print(\"Precision:\", precision)\n",
    "print(\"Recall:\", recall)\n",
    "print(\"F1 Score:\", f1)\n",
    "\n",
    "# Classification report gives you precision, recall, F1 score for each class\n",
    "print(\"\\nClassification Report:\\n\", classification_report(target_test, predictions))\n",
    "\n",
    "\n",
    "from sklearn.metrics import confusion_matrix\n",
    "cm = confusion_matrix(target_test, predictions)\n",
    "cm"
   ]
  },
  {
   "cell_type": "code",
   "execution_count": 173,
   "id": "b6477e56",
   "metadata": {},
   "outputs": [
    {
     "name": "stdout",
     "output_type": "stream",
     "text": [
      "ROC AUC Score: 0.9861495844875346\n"
     ]
    },
    {
     "data": {
      "image/png": "[encoded data removed]",
      "text/plain": [
       "<Figure size 800x600 with 1 Axes>"
      ]
     },
     "metadata": {},
     "output_type": "display_data"
    }
   ],
   "source": [
    "from sklearn.metrics import roc_auc_score, roc_curve\n",
    "import matplotlib.pyplot as plt\n",
    "y_prob = model.predict_proba(lapData_test)[:, 1]  # Get probabilities for class 1\n",
    "\n",
    "# Calculate ROC AUC\n",
    "roc_auc = roc_auc_score(target_test, y_prob)\n",
    "print(\"ROC AUC Score:\", roc_auc)\n",
    "\n",
    "# Plot ROC curve\n",
    "fpr, tpr, thresholds = roc_curve(target_test, y_prob)\n",
    "\n",
    "plt.figure(figsize=(8, 6))\n",
    "plt.plot(fpr, tpr, color='b', label=f'ROC curve (AUC = {roc_auc:.2f})')\n",
    "plt.plot([0, 1], [0, 1], color='gray', linestyle='--')  # Random classifier line\n",
    "plt.xlabel('False Positive Rate')\n",
    "plt.ylabel('True Positive Rate')\n",
    "plt.title('Receiver Operating Characteristic (ROC) Curve')\n",
    "plt.legend(loc='lower right')\n",
    "plt.show()"
   ]
  },
  {
   "cell_type": "code",
   "execution_count": 207,
   "id": "bbbe58f1",
   "metadata": {},
   "outputs": [],
   "source": [
    "from xgboost import XGBClassifier\n",
    "model = XGBClassifier(\n",
    "            objective='binary:logistic',\n",
    "            enable_categorical=True,\n",
    "            scale_pos_weight=10,  \n",
    "            max_depth=4,          \n",
    "            learning_rate=0.1,    \n",
    "            subsample=0.7,        \n",
    "            eval_metric='logloss',\n",
    "            n_estimators=200\n",
    "        )\n",
    "\n",
    "# model.fit(lapData_train, target_train)"
   ]
  },
  {
   "cell_type": "code",
   "execution_count": null,
   "id": "4d36a2b7",
   "metadata": {},
   "outputs": [],
   "source": [
    "model = XGBClassifier(\n",
    "            objective='binary:logistic',\n",
    "            enable_categorical=True,\n",
    "            eval_metric='logloss',\n",
    "            n_estimators=100,\n",
    "            random_state=42\n",
    "        )\n",
    "\n",
    "# model.fit(lapData_train, target_train)"
   ]
  },
  {
   "cell_type": "code",
   "execution_count": null,
   "id": "dae08350",
   "metadata": {},
   "outputs": [],
   "source": [
    "model = XGBClassifier(\n",
    "            objective='binary:logistic',\n",
    "            enable_categorical=True,\n",
    "            eval_metric='logloss',\n",
    "            max_depth=5,           \n",
    "            subsample=0.8,         \n",
    "            colsample_bytree=0.8,  \n",
    "            reg_alpha=0.1,         \n",
    "            reg_lambda=0.1,        \n",
    "            scale_pos_weight=5,\n",
    "            n_estimators=200\n",
    "        )\n"
   ]
  },
  {
   "cell_type": "code",
   "execution_count": null,
   "id": "db224c4e",
   "metadata": {},
   "outputs": [],
   "source": [
    "model = XGBClassifier(\n",
    "            objective='binary:logistic',\n",
    "            enable_categorical=True,\n",
    "            eval_metric='logloss',\n",
    "            scale_pos_weight=10,    \n",
    "            max_depth=4,           \n",
    "            learning_rate=0.1,     \n",
    "            min_child_weight=3,    \n",
    "            n_estimators=150\n",
    "        )"
   ]
  },
  {
   "cell_type": "code",
   "execution_count": null,
   "id": "fa5f3019",
   "metadata": {},
   "outputs": [],
   "source": [
    "importances = model.feature_importances_\n",
    "\n",
    "pd.concat([pd.Series(lapData.columns),pd.Series(importances)], axis=1).sort_values(by=1, ascending=False)"
   ]
  },
  {
   "cell_type": "code",
   "execution_count": 23,
   "id": "9a4e4993",
   "metadata": {},
   "outputs": [
    {
     "name": "stderr",
     "output_type": "stream",
     "text": [
      "core           INFO \tLoading data for Saudi Arabian Grand Prix - Race [v3.5.3]\n",
      "req            INFO \tUsing cached data for session_info\n",
      "req            INFO \tUsing cached data for driver_info\n",
      "req            INFO \tUsing cached data for session_status_data\n",
      "req            INFO \tUsing cached data for lap_count\n",
      "req            INFO \tUsing cached data for track_status_data\n",
      "req            INFO \tUsing cached data for _extended_timing_data\n",
      "req            INFO \tUsing cached data for timing_app_data\n",
      "core           INFO \tProcessing timing data...\n",
      "req            INFO \tUsing cached data for car_data\n",
      "req            INFO \tUsing cached data for position_data\n",
      "req            INFO \tUsing cached data for weather_data\n",
      "req            INFO \tUsing cached data for race_control_messages\n",
      "core           INFO \tFinished loading data for 20 drivers: ['81', '1', '16', '4', '63', '12', '44', '55', '23', '6', '14', '30', '87', '31', '27', '18', '7', '5', '22', '10']\n",
      "/var/folders/d_/7s822lfj1tjgdlqm3b8yj60w0000gn/T/ipykernel_2309/4102527917.py:44: FutureWarning: The behavior of array concatenation with empty entries is deprecated. In a future version, this will no longer exclude empty items when determining the result dtype. To retain the old behavior, exclude the empty entries before the concat operation.\n",
      "  lap_time_delta = pd.concat([lap_time_delta, delta])\n",
      "/var/folders/d_/7s822lfj1tjgdlqm3b8yj60w0000gn/T/ipykernel_2309/4102527917.py:58: FutureWarning: A value is trying to be set on a copy of a DataFrame or Series through chained assignment using an inplace method.\n",
      "The behavior will change in pandas 3.0. This inplace method will never work because the intermediate object on which we are setting values always behaves as a copy.\n",
      "\n",
      "For example, when doing 'df[col].method(value, inplace=True)', try using 'df.method({col: value}, inplace=True)' or df[col] = df[col].method(value) instead, to perform the operation inplace on the original object.\n",
      "\n",
      "\n",
      "  race['GapAhead'].replace(np.inf,np.nan, inplace=True)\n",
      "/var/folders/d_/7s822lfj1tjgdlqm3b8yj60w0000gn/T/ipykernel_2309/4102527917.py:59: FutureWarning: A value is trying to be set on a copy of a DataFrame or Series through chained assignment using an inplace method.\n",
      "The behavior will change in pandas 3.0. This inplace method will never work because the intermediate object on which we are setting values always behaves as a copy.\n",
      "\n",
      "For example, when doing 'df[col].method(value, inplace=True)', try using 'df.method({col: value}, inplace=True)' or df[col] = df[col].method(value) instead, to perform the operation inplace on the original object.\n",
      "\n",
      "\n",
      "  race['GapAhead'].fillna(0, inplace=True)\n"
     ]
    }
   ],
   "source": [
    "saudi25, saudi25_target = gpData(2025, 'Saudi Arabia', 'r')"
   ]
  },
  {
   "cell_type": "code",
   "execution_count": 24,
   "id": "b0d0b2f7",
   "metadata": {},
   "outputs": [],
   "source": [
    "copy = saudi25.copy()"
   ]
  },
  {
   "cell_type": "code",
   "execution_count": null,
   "id": "32d548dd",
   "metadata": {},
   "outputs": [],
   "source": [
    "# Drop rows with missing \"Position\" values.\n",
    "rows_to_drop = saudi25[saudi25[\"Position\"].isna()].index\n",
    "saudi25 = saudi25.drop(rows_to_drop)\n",
    "saudi25_target = saudi25_target.drop(rows_to_drop)"
   ]
  },
  {
   "cell_type": "code",
   "execution_count": null,
   "id": "2d81ce51",
   "metadata": {},
   "outputs": [],
   "source": [
    "compounds = { \n",
    "    \"SOFT\": 0,\n",
    "    \"MEDIUM\": 1,\n",
    "    \"HARD\": 2,\n",
    "    \"INTERMEDIATE\": 3,\n",
    "    \"WET\": 4\n",
    "}"
   ]
  },
  {
   "cell_type": "code",
   "execution_count": 169,
   "id": "8e55bef2",
   "metadata": {},
   "outputs": [],
   "source": [
    "# Encode compound types\n",
    "saudi25['Compound'] = saudi25['Compound'].map(compounds)\n",
    "\n",
    "# Convert relevant columns into categorical data types.\n",
    "saudi25['Position'] = saudi25['Position'].astype('category')\n",
    "saudi25['Compound'] = saudi25['Compound'].astype('category')\n",
    "saudi25['Rainfall'] = saudi25['Rainfall'].astype('category')\n",
    "\n",
    "saudi25 = saudi25.drop(columns=['Country'])\n"
   ]
  },
  {
   "cell_type": "code",
   "execution_count": 210,
   "id": "5c9c0796",
   "metadata": {},
   "outputs": [],
   "source": [
    "predictions = model.predict(saudi25)"
   ]
  },
  {
   "cell_type": "code",
   "execution_count": 211,
   "id": "21c11939",
   "metadata": {},
   "outputs": [
    {
     "name": "stdout",
     "output_type": "stream",
     "text": [
      "Precision: 0.7142857142857143\n",
      "Recall: 0.7894736842105263\n",
      "F1 Score: 0.75\n",
      "\n",
      "Classification Report:\n",
      "               precision    recall  f1-score   support\n",
      "\n",
      "           0       1.00      0.99      0.99       878\n",
      "           1       0.71      0.79      0.75        19\n",
      "\n",
      "    accuracy                           0.99       897\n",
      "   macro avg       0.85      0.89      0.87       897\n",
      "weighted avg       0.99      0.99      0.99       897\n",
      "\n",
      "Confusion Matrix: [[872   6]\n",
      " [  4  15]]\n"
     ]
    }
   ],
   "source": [
    "from sklearn.metrics import precision_score, recall_score, f1_score, classification_report\n",
    "# Calculate precision, recall, and F1 score for binary classification\n",
    "\n",
    "precision = precision_score(saudi25_target, predictions)\n",
    "recall = recall_score(saudi25_target, predictions)\n",
    "f1 = f1_score(saudi25_target, predictions)\n",
    "\n",
    "# Print classification report for a more detailed overview\n",
    "\n",
    "print(\"Precision:\", precision)\n",
    "print(\"Recall:\", recall)\n",
    "print(\"F1 Score:\", f1)\n",
    "\n",
    "# Classification report gives you precision, recall, F1 score for each class\n",
    "print(\"\\nClassification Report:\\n\", classification_report(saudi25_target, predictions))\n",
    "\n",
    "\n",
    "from sklearn.metrics import confusion_matrix\n",
    "cm = confusion_matrix(saudi25_target, predictions)\n",
    "print(\"Confusion Matrix:\", cm)"
   ]
  },
  {
   "cell_type": "code",
   "execution_count": 176,
   "id": "064bf9bd",
   "metadata": {},
   "outputs": [
    {
     "name": "stdout",
     "output_type": "stream",
     "text": [
      "              precision    recall  f1-score   support\n",
      "\n",
      "           0       1.00      0.99      0.99       878\n",
      "           1       0.68      0.79      0.73        19\n",
      "\n",
      "    accuracy                           0.99       897\n",
      "   macro avg       0.84      0.89      0.86       897\n",
      "weighted avg       0.99      0.99      0.99       897\n",
      "\n",
      "Confusion Matrix: [[871   7]\n",
      " [  4  15]]\n"
     ]
    }
   ],
   "source": [
    "# For XGBoost (use predicted probabilities, not hard 0/1)\n",
    "y_pred_proba = model.predict_proba(saudi25)[:, 1]  # Probabilities for class 1\n",
    "y_pred_new = (y_pred_proba > 0.3).astype(int)    # Lower threshold from 0.5 to 0.3\n",
    "print(classification_report(saudi25_target, y_pred_new))\n",
    "cm = confusion_matrix(saudi25_target, y_pred_new)\n",
    "print(\"Confusion Matrix:\", cm)"
   ]
  },
  {
   "cell_type": "code",
   "execution_count": null,
   "id": "cb72c784",
   "metadata": {},
   "outputs": [],
   "source": [
    " "
   ]
  }
 ],
 "metadata": {
  "kernelspec": {
   "display_name": "Python 3",
   "language": "python",
   "name": "python3"
  },
  "language_info": {
   "codemirror_mode": {
    "name": "ipython",
    "version": 3
   },
   "file_extension": ".py",
   "mimetype": "text/x-python",
   "name": "python",
   "nbconvert_exporter": "python",
   "pygments_lexer": "ipython3",
   "version": "3.9.21"
  }
 },
 "nbformat": 4,
 "nbformat_minor": 5
}
